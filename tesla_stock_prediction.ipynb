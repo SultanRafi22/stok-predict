{
  "metadata": {
    "kernelspec": {
      "language": "python",
      "display_name": "Python 3",
      "name": "python3"
    },
    "language_info": {
      "name": "python",
      "version": "3.10.12",
      "mimetype": "text/x-python",
      "codemirror_mode": {
        "name": "ipython",
        "version": 3
      },
      "pygments_lexer": "ipython3",
      "nbconvert_exporter": "python",
      "file_extension": ".py"
    },
    "kaggle": {
      "accelerator": "gpu",
      "dataSources": [
        {
          "sourceId": 10196151,
          "sourceType": "datasetVersion",
          "datasetId": 6300039
        }
      ],
      "dockerImageVersionId": 30840,
      "isInternetEnabled": true,
      "language": "python",
      "sourceType": "notebook",
      "isGpuEnabled": true
    },
    "colab": {
      "provenance": []
    }
  },
  "nbformat_minor": 0,
  "nbformat": 4,
  "cells": [
    {
      "cell_type": "markdown",
      "source": [
        "# **Hyperparameter Tuning**"
      ],
      "metadata": {
        "id": "37WtUvV_XbDs"
      }
    },
    {
      "cell_type": "code",
      "source": [
        "from prophet import Prophet\n",
        "from sklearn.model_selection import ParameterGrid\n",
        "from sklearn.metrics import mean_absolute_error\n",
        "import pandas as pd"
      ],
      "metadata": {
        "id": "9JwT1QCQXejT"
      },
      "execution_count": null,
      "outputs": []
    },
    {
      "cell_type": "code",
      "source": [
        "# Load dataset\n",
        "data = pd.read_csv(\"/content/TESLA.csv\")  # Ganti dengan dataset Anda\n",
        "data.rename(columns={'Date': 'ds', 'Close': 'y'}, inplace=True)\n",
        "data['ds'] = pd.to_datetime(data['ds'])\n",
        "data['y'] = data['y']  # Pastikan kolom target sesuai"
      ],
      "metadata": {
        "colab": {
          "base_uri": "https://localhost:8080/"
        },
        "id": "Vktb3mJuZffG",
        "outputId": "9c358ce8-e6a4-42af-b0ff-2291ef8750fa"
      },
      "execution_count": null,
      "outputs": [
        {
          "output_type": "stream",
          "name": "stderr",
          "text": [
            "<ipython-input-2-d918c68de474>:4: UserWarning: Could not infer format, so each element will be parsed individually, falling back to `dateutil`. To ensure parsing is consistent and as-expected, please specify a format.\n",
            "  data['ds'] = pd.to_datetime(data['ds'])\n"
          ]
        }
      ]
    },
    {
      "cell_type": "code",
      "source": [
        "train_data = data[:-30]  # Gunakan data sebelum 30 hari terakhir untuk pelatihan\n",
        "test_data = data[-30:]   # Gunakan 30 hari terakhir untuk pengujian\n",
        "print(len(train_data))\n",
        "print(len(test_data))"
      ],
      "metadata": {
        "colab": {
          "base_uri": "https://localhost:8080/"
        },
        "id": "4WygKOiNXh2W",
        "outputId": "56e5dfeb-beed-45af-e890-d76519694e16"
      },
      "execution_count": null,
      "outputs": [
        {
          "output_type": "stream",
          "name": "stdout",
          "text": [
            "3607\n",
            "30\n"
          ]
        }
      ]
    },
    {
      "cell_type": "code",
      "source": [
        "train_data.head()"
      ],
      "metadata": {
        "colab": {
          "base_uri": "https://localhost:8080/",
          "height": 206
        },
        "id": "K4w5JJeOgcgy",
        "outputId": "c0a575aa-a730-4f87-f094-30030514b00a"
      },
      "execution_count": null,
      "outputs": [
        {
          "output_type": "execute_result",
          "data": {
            "text/plain": [
              "   Unnamed: 0         ds      Open      High       Low         y  Adj Close  \\\n",
              "0           0 2010-06-29  1.266667  1.666667  1.169333  1.592667   1.592667   \n",
              "1           1 2010-06-30  1.719333  2.028000  1.553333  1.588667   1.588667   \n",
              "2           2 2010-07-01  1.666667  1.728000  1.351333  1.464000   1.464000   \n",
              "3           3 2010-07-02  1.533333  1.540000  1.247333  1.280000   1.280000   \n",
              "4           4 2010-07-06  1.333333  1.333333  1.055333  1.074000   1.074000   \n",
              "\n",
              "      Volume  \n",
              "0  281494500  \n",
              "1  257806500  \n",
              "2  123282000  \n",
              "3   77097000  \n",
              "4  103003500  "
            ],
            "text/html": [
              "\n",
              "  <div id=\"df-b6afdff0-6c09-450a-8a1f-cfe3d65c1d54\" class=\"colab-df-container\">\n",
              "    <div>\n",
              "<style scoped>\n",
              "    .dataframe tbody tr th:only-of-type {\n",
              "        vertical-align: middle;\n",
              "    }\n",
              "\n",
              "    .dataframe tbody tr th {\n",
              "        vertical-align: top;\n",
              "    }\n",
              "\n",
              "    .dataframe thead th {\n",
              "        text-align: right;\n",
              "    }\n",
              "</style>\n",
              "<table border=\"1\" class=\"dataframe\">\n",
              "  <thead>\n",
              "    <tr style=\"text-align: right;\">\n",
              "      <th></th>\n",
              "      <th>Unnamed: 0</th>\n",
              "      <th>ds</th>\n",
              "      <th>Open</th>\n",
              "      <th>High</th>\n",
              "      <th>Low</th>\n",
              "      <th>y</th>\n",
              "      <th>Adj Close</th>\n",
              "      <th>Volume</th>\n",
              "    </tr>\n",
              "  </thead>\n",
              "  <tbody>\n",
              "    <tr>\n",
              "      <th>0</th>\n",
              "      <td>0</td>\n",
              "      <td>2010-06-29</td>\n",
              "      <td>1.266667</td>\n",
              "      <td>1.666667</td>\n",
              "      <td>1.169333</td>\n",
              "      <td>1.592667</td>\n",
              "      <td>1.592667</td>\n",
              "      <td>281494500</td>\n",
              "    </tr>\n",
              "    <tr>\n",
              "      <th>1</th>\n",
              "      <td>1</td>\n",
              "      <td>2010-06-30</td>\n",
              "      <td>1.719333</td>\n",
              "      <td>2.028000</td>\n",
              "      <td>1.553333</td>\n",
              "      <td>1.588667</td>\n",
              "      <td>1.588667</td>\n",
              "      <td>257806500</td>\n",
              "    </tr>\n",
              "    <tr>\n",
              "      <th>2</th>\n",
              "      <td>2</td>\n",
              "      <td>2010-07-01</td>\n",
              "      <td>1.666667</td>\n",
              "      <td>1.728000</td>\n",
              "      <td>1.351333</td>\n",
              "      <td>1.464000</td>\n",
              "      <td>1.464000</td>\n",
              "      <td>123282000</td>\n",
              "    </tr>\n",
              "    <tr>\n",
              "      <th>3</th>\n",
              "      <td>3</td>\n",
              "      <td>2010-07-02</td>\n",
              "      <td>1.533333</td>\n",
              "      <td>1.540000</td>\n",
              "      <td>1.247333</td>\n",
              "      <td>1.280000</td>\n",
              "      <td>1.280000</td>\n",
              "      <td>77097000</td>\n",
              "    </tr>\n",
              "    <tr>\n",
              "      <th>4</th>\n",
              "      <td>4</td>\n",
              "      <td>2010-07-06</td>\n",
              "      <td>1.333333</td>\n",
              "      <td>1.333333</td>\n",
              "      <td>1.055333</td>\n",
              "      <td>1.074000</td>\n",
              "      <td>1.074000</td>\n",
              "      <td>103003500</td>\n",
              "    </tr>\n",
              "  </tbody>\n",
              "</table>\n",
              "</div>\n",
              "    <div class=\"colab-df-buttons\">\n",
              "\n",
              "  <div class=\"colab-df-container\">\n",
              "    <button class=\"colab-df-convert\" onclick=\"convertToInteractive('df-b6afdff0-6c09-450a-8a1f-cfe3d65c1d54')\"\n",
              "            title=\"Convert this dataframe to an interactive table.\"\n",
              "            style=\"display:none;\">\n",
              "\n",
              "  <svg xmlns=\"http://www.w3.org/2000/svg\" height=\"24px\" viewBox=\"0 -960 960 960\">\n",
              "    <path d=\"M120-120v-720h720v720H120Zm60-500h600v-160H180v160Zm220 220h160v-160H400v160Zm0 220h160v-160H400v160ZM180-400h160v-160H180v160Zm440 0h160v-160H620v160ZM180-180h160v-160H180v160Zm440 0h160v-160H620v160Z\"/>\n",
              "  </svg>\n",
              "    </button>\n",
              "\n",
              "  <style>\n",
              "    .colab-df-container {\n",
              "      display:flex;\n",
              "      gap: 12px;\n",
              "    }\n",
              "\n",
              "    .colab-df-convert {\n",
              "      background-color: #E8F0FE;\n",
              "      border: none;\n",
              "      border-radius: 50%;\n",
              "      cursor: pointer;\n",
              "      display: none;\n",
              "      fill: #1967D2;\n",
              "      height: 32px;\n",
              "      padding: 0 0 0 0;\n",
              "      width: 32px;\n",
              "    }\n",
              "\n",
              "    .colab-df-convert:hover {\n",
              "      background-color: #E2EBFA;\n",
              "      box-shadow: 0px 1px 2px rgba(60, 64, 67, 0.3), 0px 1px 3px 1px rgba(60, 64, 67, 0.15);\n",
              "      fill: #174EA6;\n",
              "    }\n",
              "\n",
              "    .colab-df-buttons div {\n",
              "      margin-bottom: 4px;\n",
              "    }\n",
              "\n",
              "    [theme=dark] .colab-df-convert {\n",
              "      background-color: #3B4455;\n",
              "      fill: #D2E3FC;\n",
              "    }\n",
              "\n",
              "    [theme=dark] .colab-df-convert:hover {\n",
              "      background-color: #434B5C;\n",
              "      box-shadow: 0px 1px 3px 1px rgba(0, 0, 0, 0.15);\n",
              "      filter: drop-shadow(0px 1px 2px rgba(0, 0, 0, 0.3));\n",
              "      fill: #FFFFFF;\n",
              "    }\n",
              "  </style>\n",
              "\n",
              "    <script>\n",
              "      const buttonEl =\n",
              "        document.querySelector('#df-b6afdff0-6c09-450a-8a1f-cfe3d65c1d54 button.colab-df-convert');\n",
              "      buttonEl.style.display =\n",
              "        google.colab.kernel.accessAllowed ? 'block' : 'none';\n",
              "\n",
              "      async function convertToInteractive(key) {\n",
              "        const element = document.querySelector('#df-b6afdff0-6c09-450a-8a1f-cfe3d65c1d54');\n",
              "        const dataTable =\n",
              "          await google.colab.kernel.invokeFunction('convertToInteractive',\n",
              "                                                    [key], {});\n",
              "        if (!dataTable) return;\n",
              "\n",
              "        const docLinkHtml = 'Like what you see? Visit the ' +\n",
              "          '<a target=\"_blank\" href=https://colab.research.google.com/notebooks/data_table.ipynb>data table notebook</a>'\n",
              "          + ' to learn more about interactive tables.';\n",
              "        element.innerHTML = '';\n",
              "        dataTable['output_type'] = 'display_data';\n",
              "        await google.colab.output.renderOutput(dataTable, element);\n",
              "        const docLink = document.createElement('div');\n",
              "        docLink.innerHTML = docLinkHtml;\n",
              "        element.appendChild(docLink);\n",
              "      }\n",
              "    </script>\n",
              "  </div>\n",
              "\n",
              "\n",
              "<div id=\"df-55713f06-6208-4c76-8b8d-737bea8ee240\">\n",
              "  <button class=\"colab-df-quickchart\" onclick=\"quickchart('df-55713f06-6208-4c76-8b8d-737bea8ee240')\"\n",
              "            title=\"Suggest charts\"\n",
              "            style=\"display:none;\">\n",
              "\n",
              "<svg xmlns=\"http://www.w3.org/2000/svg\" height=\"24px\"viewBox=\"0 0 24 24\"\n",
              "     width=\"24px\">\n",
              "    <g>\n",
              "        <path d=\"M19 3H5c-1.1 0-2 .9-2 2v14c0 1.1.9 2 2 2h14c1.1 0 2-.9 2-2V5c0-1.1-.9-2-2-2zM9 17H7v-7h2v7zm4 0h-2V7h2v10zm4 0h-2v-4h2v4z\"/>\n",
              "    </g>\n",
              "</svg>\n",
              "  </button>\n",
              "\n",
              "<style>\n",
              "  .colab-df-quickchart {\n",
              "      --bg-color: #E8F0FE;\n",
              "      --fill-color: #1967D2;\n",
              "      --hover-bg-color: #E2EBFA;\n",
              "      --hover-fill-color: #174EA6;\n",
              "      --disabled-fill-color: #AAA;\n",
              "      --disabled-bg-color: #DDD;\n",
              "  }\n",
              "\n",
              "  [theme=dark] .colab-df-quickchart {\n",
              "      --bg-color: #3B4455;\n",
              "      --fill-color: #D2E3FC;\n",
              "      --hover-bg-color: #434B5C;\n",
              "      --hover-fill-color: #FFFFFF;\n",
              "      --disabled-bg-color: #3B4455;\n",
              "      --disabled-fill-color: #666;\n",
              "  }\n",
              "\n",
              "  .colab-df-quickchart {\n",
              "    background-color: var(--bg-color);\n",
              "    border: none;\n",
              "    border-radius: 50%;\n",
              "    cursor: pointer;\n",
              "    display: none;\n",
              "    fill: var(--fill-color);\n",
              "    height: 32px;\n",
              "    padding: 0;\n",
              "    width: 32px;\n",
              "  }\n",
              "\n",
              "  .colab-df-quickchart:hover {\n",
              "    background-color: var(--hover-bg-color);\n",
              "    box-shadow: 0 1px 2px rgba(60, 64, 67, 0.3), 0 1px 3px 1px rgba(60, 64, 67, 0.15);\n",
              "    fill: var(--button-hover-fill-color);\n",
              "  }\n",
              "\n",
              "  .colab-df-quickchart-complete:disabled,\n",
              "  .colab-df-quickchart-complete:disabled:hover {\n",
              "    background-color: var(--disabled-bg-color);\n",
              "    fill: var(--disabled-fill-color);\n",
              "    box-shadow: none;\n",
              "  }\n",
              "\n",
              "  .colab-df-spinner {\n",
              "    border: 2px solid var(--fill-color);\n",
              "    border-color: transparent;\n",
              "    border-bottom-color: var(--fill-color);\n",
              "    animation:\n",
              "      spin 1s steps(1) infinite;\n",
              "  }\n",
              "\n",
              "  @keyframes spin {\n",
              "    0% {\n",
              "      border-color: transparent;\n",
              "      border-bottom-color: var(--fill-color);\n",
              "      border-left-color: var(--fill-color);\n",
              "    }\n",
              "    20% {\n",
              "      border-color: transparent;\n",
              "      border-left-color: var(--fill-color);\n",
              "      border-top-color: var(--fill-color);\n",
              "    }\n",
              "    30% {\n",
              "      border-color: transparent;\n",
              "      border-left-color: var(--fill-color);\n",
              "      border-top-color: var(--fill-color);\n",
              "      border-right-color: var(--fill-color);\n",
              "    }\n",
              "    40% {\n",
              "      border-color: transparent;\n",
              "      border-right-color: var(--fill-color);\n",
              "      border-top-color: var(--fill-color);\n",
              "    }\n",
              "    60% {\n",
              "      border-color: transparent;\n",
              "      border-right-color: var(--fill-color);\n",
              "    }\n",
              "    80% {\n",
              "      border-color: transparent;\n",
              "      border-right-color: var(--fill-color);\n",
              "      border-bottom-color: var(--fill-color);\n",
              "    }\n",
              "    90% {\n",
              "      border-color: transparent;\n",
              "      border-bottom-color: var(--fill-color);\n",
              "    }\n",
              "  }\n",
              "</style>\n",
              "\n",
              "  <script>\n",
              "    async function quickchart(key) {\n",
              "      const quickchartButtonEl =\n",
              "        document.querySelector('#' + key + ' button');\n",
              "      quickchartButtonEl.disabled = true;  // To prevent multiple clicks.\n",
              "      quickchartButtonEl.classList.add('colab-df-spinner');\n",
              "      try {\n",
              "        const charts = await google.colab.kernel.invokeFunction(\n",
              "            'suggestCharts', [key], {});\n",
              "      } catch (error) {\n",
              "        console.error('Error during call to suggestCharts:', error);\n",
              "      }\n",
              "      quickchartButtonEl.classList.remove('colab-df-spinner');\n",
              "      quickchartButtonEl.classList.add('colab-df-quickchart-complete');\n",
              "    }\n",
              "    (() => {\n",
              "      let quickchartButtonEl =\n",
              "        document.querySelector('#df-55713f06-6208-4c76-8b8d-737bea8ee240 button');\n",
              "      quickchartButtonEl.style.display =\n",
              "        google.colab.kernel.accessAllowed ? 'block' : 'none';\n",
              "    })();\n",
              "  </script>\n",
              "</div>\n",
              "\n",
              "    </div>\n",
              "  </div>\n"
            ],
            "application/vnd.google.colaboratory.intrinsic+json": {
              "type": "dataframe",
              "variable_name": "train_data",
              "summary": "{\n  \"name\": \"train_data\",\n  \"rows\": 3607,\n  \"fields\": [\n    {\n      \"column\": \"Unnamed: 0\",\n      \"properties\": {\n        \"dtype\": \"number\",\n        \"std\": 1041,\n        \"min\": 0,\n        \"max\": 3606,\n        \"num_unique_values\": 3607,\n        \"samples\": [\n          3030,\n          2194,\n          2031\n        ],\n        \"semantic_type\": \"\",\n        \"description\": \"\"\n      }\n    },\n    {\n      \"column\": \"ds\",\n      \"properties\": {\n        \"dtype\": \"date\",\n        \"min\": \"2010-06-29 00:00:00\",\n        \"max\": \"2024-10-25 00:00:00\",\n        \"num_unique_values\": 3607,\n        \"samples\": [\n          \"2022-07-13 00:00:00\",\n          \"2019-03-19 00:00:00\",\n          \"2018-07-24 00:00:00\"\n        ],\n        \"semantic_type\": \"\",\n        \"description\": \"\"\n      }\n    },\n    {\n      \"column\": \"Open\",\n      \"properties\": {\n        \"dtype\": \"number\",\n        \"std\": 103.52408226107268,\n        \"min\": 1.075999975,\n        \"max\": 411.4700012,\n        \"num_unique_values\": 3294,\n        \"samples\": [\n          250.0800018,\n          169.0800018,\n          244.9799957\n        ],\n        \"semantic_type\": \"\",\n        \"description\": \"\"\n      }\n    },\n    {\n      \"column\": \"High\",\n      \"properties\": {\n        \"dtype\": \"number\",\n        \"std\": 105.81137472876667,\n        \"min\": 1.108667016,\n        \"max\": 414.4966736,\n        \"num_unique_values\": 3290,\n        \"samples\": [\n          13.149333,\n          173.8099976,\n          20.19333267\n        ],\n        \"semantic_type\": \"\",\n        \"description\": \"\"\n      }\n    },\n    {\n      \"column\": \"Low\",\n      \"properties\": {\n        \"dtype\": \"number\",\n        \"std\": 101.03941431516733,\n        \"min\": 0.998667002,\n        \"max\": 405.6666565,\n        \"num_unique_values\": 3307,\n        \"samples\": [\n          1.378000021,\n          10.81333256,\n          14.8166666\n        ],\n        \"semantic_type\": \"\",\n        \"description\": \"\"\n      }\n    },\n    {\n      \"column\": \"y\",\n      \"properties\": {\n        \"dtype\": \"number\",\n        \"std\": 103.46199869131114,\n        \"min\": 1.053333044,\n        \"max\": 409.9700012,\n        \"num_unique_values\": 3402,\n        \"samples\": [\n          1.883332968,\n          16.59466743,\n          16.82533264\n        ],\n        \"semantic_type\": \"\",\n        \"description\": \"\"\n      }\n    },\n    {\n      \"column\": \"Adj Close\",\n      \"properties\": {\n        \"dtype\": \"number\",\n        \"std\": 103.46199869131114,\n        \"min\": 1.053333044,\n        \"max\": 409.9700012,\n        \"num_unique_values\": 3402,\n        \"samples\": [\n          1.883332968,\n          16.59466743,\n          16.82533264\n        ],\n        \"semantic_type\": \"\",\n        \"description\": \"\"\n      }\n    },\n    {\n      \"column\": \"Volume\",\n      \"properties\": {\n        \"dtype\": \"number\",\n        \"std\": 78098472,\n        \"min\": 1777500,\n        \"max\": 914082000,\n        \"num_unique_values\": 3576,\n        \"samples\": [\n          124176000,\n          78928200,\n          132294000\n        ],\n        \"semantic_type\": \"\",\n        \"description\": \"\"\n      }\n    }\n  ]\n}"
            }
          },
          "metadata": {},
          "execution_count": 5
        }
      ]
    },
    {
      "cell_type": "code",
      "source": [
        "# Define parameter grid for hyperparameter tuning\n",
        "param_grid = {\n",
        "    'growth': ['linear', 'logistic'],\n",
        "    'changepoint_prior_scale': [0.01, 0.1, 0.5],\n",
        "    'seasonality_mode': ['additive', 'multiplicative'],\n",
        "    'seasonality_prior_scale': [5.0, 10.0, 20.0],\n",
        "}\n",
        "\n",
        "# Generate all combinations of parameters\n",
        "grid = ParameterGrid(param_grid)"
      ],
      "metadata": {
        "id": "L483rtn4XoDe"
      },
      "execution_count": null,
      "outputs": []
    },
    {
      "cell_type": "code",
      "source": [
        "# Function to evaluate the model\n",
        "def evaluate_prophet_model(params, train_data, test_data):\n",
        "    try:\n",
        "        # Create the Prophet model with specified parameters\n",
        "        model = Prophet(\n",
        "            growth=params['growth'],\n",
        "            changepoint_prior_scale=params['changepoint_prior_scale'],\n",
        "            seasonality_mode=params['seasonality_mode'],\n",
        "            seasonality_prior_scale=params['seasonality_prior_scale']\n",
        "        )\n",
        "\n",
        "        # Logistic growth requires 'cap' column\n",
        "        if params['growth'] == 'logistic':\n",
        "            train_data['cap'] = train_data['y'].max() * 1.2  # Misalnya, 20% di atas nilai maksimum\n",
        "            test_data['cap'] = train_data['cap'].iloc[0]\n",
        "\n",
        "        # Fit the model\n",
        "        model.fit(train_data)\n",
        "\n",
        "        # Make future dataframe and predictions\n",
        "        future = model.make_future_dataframe(periods=len(test_data))\n",
        "        if params['growth'] == 'logistic':\n",
        "            future['cap'] = train_data['cap'].iloc[0]\n",
        "        forecast = model.predict(future)\n",
        "\n",
        "        # Evaluate predictions\n",
        "        test_y = test_data['y'].values\n",
        "        pred_y = forecast['yhat'][-len(test_data):].values\n",
        "        mae = mean_absolute_error(test_y, pred_y)  # Mean Absolute Error\n",
        "        return mae\n",
        "\n",
        "    except Exception as e:\n",
        "        print(f\"Error with parameters {params}: {e}\")\n",
        "        return float('inf')  # Return a large value for error cases"
      ],
      "metadata": {
        "id": "k36o5K0KX4sM"
      },
      "execution_count": null,
      "outputs": []
    },
    {
      "cell_type": "code",
      "source": [
        "# Perform grid search\n",
        "best_params = None\n",
        "best_score = float('inf')\n",
        "\n",
        "for params in grid:\n",
        "    print(f\"Evaluating parameters: {params}\")\n",
        "    mae = evaluate_prophet_model(params, train_data.copy(), test_data.copy())\n",
        "    print(f\"MAE: {mae}\")\n",
        "\n",
        "    # Update best parameters if score improves\n",
        "    if mae < best_score:\n",
        "        best_params = params\n",
        "        best_score = mae"
      ],
      "metadata": {
        "colab": {
          "base_uri": "https://localhost:8080/"
        },
        "id": "UxJR-x3KX_U1",
        "outputId": "5355f879-849d-451b-8db9-455ab6cbbc60"
      },
      "execution_count": null,
      "outputs": [
        {
          "output_type": "stream",
          "name": "stdout",
          "text": [
            "Evaluating parameters: {'changepoint_prior_scale': 0.01, 'growth': 'linear', 'seasonality_mode': 'additive', 'seasonality_prior_scale': 5.0}\n"
          ]
        },
        {
          "output_type": "stream",
          "name": "stderr",
          "text": [
            "INFO:prophet:Disabling daily seasonality. Run prophet with daily_seasonality=True to override this.\n",
            "DEBUG:cmdstanpy:input tempfile: /tmp/tmpo9cahvox/4ff5ltb6.json\n",
            "DEBUG:cmdstanpy:input tempfile: /tmp/tmpo9cahvox/kswnh_5r.json\n",
            "DEBUG:cmdstanpy:idx 0\n",
            "DEBUG:cmdstanpy:running CmdStan, num_threads: None\n",
            "DEBUG:cmdstanpy:CmdStan args: ['/usr/local/lib/python3.11/dist-packages/prophet/stan_model/prophet_model.bin', 'random', 'seed=22711', 'data', 'file=/tmp/tmpo9cahvox/4ff5ltb6.json', 'init=/tmp/tmpo9cahvox/kswnh_5r.json', 'output', 'file=/tmp/tmpo9cahvox/prophet_modelslmid8zs/prophet_model-20250126071321.csv', 'method=optimize', 'algorithm=lbfgs', 'iter=10000']\n",
            "07:13:21 - cmdstanpy - INFO - Chain [1] start processing\n",
            "INFO:cmdstanpy:Chain [1] start processing\n",
            "07:13:22 - cmdstanpy - INFO - Chain [1] done processing\n",
            "INFO:cmdstanpy:Chain [1] done processing\n",
            "INFO:prophet:Disabling daily seasonality. Run prophet with daily_seasonality=True to override this.\n",
            "DEBUG:cmdstanpy:input tempfile: /tmp/tmpo9cahvox/z04y1w4i.json\n"
          ]
        },
        {
          "output_type": "stream",
          "name": "stdout",
          "text": [
            "MAE: 128.40729748992246\n",
            "Evaluating parameters: {'changepoint_prior_scale': 0.01, 'growth': 'linear', 'seasonality_mode': 'additive', 'seasonality_prior_scale': 10.0}\n"
          ]
        },
        {
          "output_type": "stream",
          "name": "stderr",
          "text": [
            "DEBUG:cmdstanpy:input tempfile: /tmp/tmpo9cahvox/mwwsc0me.json\n",
            "DEBUG:cmdstanpy:idx 0\n",
            "DEBUG:cmdstanpy:running CmdStan, num_threads: None\n",
            "DEBUG:cmdstanpy:CmdStan args: ['/usr/local/lib/python3.11/dist-packages/prophet/stan_model/prophet_model.bin', 'random', 'seed=73781', 'data', 'file=/tmp/tmpo9cahvox/z04y1w4i.json', 'init=/tmp/tmpo9cahvox/mwwsc0me.json', 'output', 'file=/tmp/tmpo9cahvox/prophet_modelwhou14j5/prophet_model-20250126071323.csv', 'method=optimize', 'algorithm=lbfgs', 'iter=10000']\n",
            "07:13:23 - cmdstanpy - INFO - Chain [1] start processing\n",
            "INFO:cmdstanpy:Chain [1] start processing\n",
            "07:13:24 - cmdstanpy - INFO - Chain [1] done processing\n",
            "INFO:cmdstanpy:Chain [1] done processing\n",
            "INFO:prophet:Disabling daily seasonality. Run prophet with daily_seasonality=True to override this.\n",
            "DEBUG:cmdstanpy:input tempfile: /tmp/tmpo9cahvox/viok6grf.json\n"
          ]
        },
        {
          "output_type": "stream",
          "name": "stdout",
          "text": [
            "MAE: 130.24547758142577\n",
            "Evaluating parameters: {'changepoint_prior_scale': 0.01, 'growth': 'linear', 'seasonality_mode': 'additive', 'seasonality_prior_scale': 20.0}\n"
          ]
        },
        {
          "output_type": "stream",
          "name": "stderr",
          "text": [
            "DEBUG:cmdstanpy:input tempfile: /tmp/tmpo9cahvox/0c2pqsz8.json\n",
            "DEBUG:cmdstanpy:idx 0\n",
            "DEBUG:cmdstanpy:running CmdStan, num_threads: None\n",
            "DEBUG:cmdstanpy:CmdStan args: ['/usr/local/lib/python3.11/dist-packages/prophet/stan_model/prophet_model.bin', 'random', 'seed=4582', 'data', 'file=/tmp/tmpo9cahvox/viok6grf.json', 'init=/tmp/tmpo9cahvox/0c2pqsz8.json', 'output', 'file=/tmp/tmpo9cahvox/prophet_model79shqj94/prophet_model-20250126071325.csv', 'method=optimize', 'algorithm=lbfgs', 'iter=10000']\n",
            "07:13:25 - cmdstanpy - INFO - Chain [1] start processing\n",
            "INFO:cmdstanpy:Chain [1] start processing\n",
            "07:13:26 - cmdstanpy - INFO - Chain [1] done processing\n",
            "INFO:cmdstanpy:Chain [1] done processing\n",
            "INFO:prophet:Disabling daily seasonality. Run prophet with daily_seasonality=True to override this.\n",
            "DEBUG:cmdstanpy:input tempfile: /tmp/tmpo9cahvox/s1ebu0e_.json\n"
          ]
        },
        {
          "output_type": "stream",
          "name": "stdout",
          "text": [
            "MAE: 126.83022047938285\n",
            "Evaluating parameters: {'changepoint_prior_scale': 0.01, 'growth': 'linear', 'seasonality_mode': 'multiplicative', 'seasonality_prior_scale': 5.0}\n"
          ]
        },
        {
          "output_type": "stream",
          "name": "stderr",
          "text": [
            "DEBUG:cmdstanpy:input tempfile: /tmp/tmpo9cahvox/c5l0ns6u.json\n",
            "DEBUG:cmdstanpy:idx 0\n",
            "DEBUG:cmdstanpy:running CmdStan, num_threads: None\n",
            "DEBUG:cmdstanpy:CmdStan args: ['/usr/local/lib/python3.11/dist-packages/prophet/stan_model/prophet_model.bin', 'random', 'seed=4029', 'data', 'file=/tmp/tmpo9cahvox/s1ebu0e_.json', 'init=/tmp/tmpo9cahvox/c5l0ns6u.json', 'output', 'file=/tmp/tmpo9cahvox/prophet_modeleufndjgu/prophet_model-20250126071328.csv', 'method=optimize', 'algorithm=lbfgs', 'iter=10000']\n",
            "07:13:28 - cmdstanpy - INFO - Chain [1] start processing\n",
            "INFO:cmdstanpy:Chain [1] start processing\n",
            "07:13:29 - cmdstanpy - INFO - Chain [1] done processing\n",
            "INFO:cmdstanpy:Chain [1] done processing\n",
            "INFO:prophet:Disabling daily seasonality. Run prophet with daily_seasonality=True to override this.\n",
            "DEBUG:cmdstanpy:input tempfile: /tmp/tmpo9cahvox/qsymaqr2.json\n"
          ]
        },
        {
          "output_type": "stream",
          "name": "stdout",
          "text": [
            "MAE: 288.25059221722205\n",
            "Evaluating parameters: {'changepoint_prior_scale': 0.01, 'growth': 'linear', 'seasonality_mode': 'multiplicative', 'seasonality_prior_scale': 10.0}\n"
          ]
        },
        {
          "output_type": "stream",
          "name": "stderr",
          "text": [
            "DEBUG:cmdstanpy:input tempfile: /tmp/tmpo9cahvox/5lvyp3vc.json\n",
            "DEBUG:cmdstanpy:idx 0\n",
            "DEBUG:cmdstanpy:running CmdStan, num_threads: None\n",
            "DEBUG:cmdstanpy:CmdStan args: ['/usr/local/lib/python3.11/dist-packages/prophet/stan_model/prophet_model.bin', 'random', 'seed=7131', 'data', 'file=/tmp/tmpo9cahvox/qsymaqr2.json', 'init=/tmp/tmpo9cahvox/5lvyp3vc.json', 'output', 'file=/tmp/tmpo9cahvox/prophet_modelhnnzk5lf/prophet_model-20250126071330.csv', 'method=optimize', 'algorithm=lbfgs', 'iter=10000']\n",
            "07:13:30 - cmdstanpy - INFO - Chain [1] start processing\n",
            "INFO:cmdstanpy:Chain [1] start processing\n",
            "07:13:31 - cmdstanpy - INFO - Chain [1] done processing\n",
            "INFO:cmdstanpy:Chain [1] done processing\n",
            "INFO:prophet:Disabling daily seasonality. Run prophet with daily_seasonality=True to override this.\n",
            "DEBUG:cmdstanpy:input tempfile: /tmp/tmpo9cahvox/0iy2pufr.json\n"
          ]
        },
        {
          "output_type": "stream",
          "name": "stdout",
          "text": [
            "MAE: 291.5051591266108\n",
            "Evaluating parameters: {'changepoint_prior_scale': 0.01, 'growth': 'linear', 'seasonality_mode': 'multiplicative', 'seasonality_prior_scale': 20.0}\n"
          ]
        },
        {
          "output_type": "stream",
          "name": "stderr",
          "text": [
            "DEBUG:cmdstanpy:input tempfile: /tmp/tmpo9cahvox/jhyy0y4y.json\n",
            "DEBUG:cmdstanpy:idx 0\n",
            "DEBUG:cmdstanpy:running CmdStan, num_threads: None\n",
            "DEBUG:cmdstanpy:CmdStan args: ['/usr/local/lib/python3.11/dist-packages/prophet/stan_model/prophet_model.bin', 'random', 'seed=32725', 'data', 'file=/tmp/tmpo9cahvox/0iy2pufr.json', 'init=/tmp/tmpo9cahvox/jhyy0y4y.json', 'output', 'file=/tmp/tmpo9cahvox/prophet_model79hiy84v/prophet_model-20250126071332.csv', 'method=optimize', 'algorithm=lbfgs', 'iter=10000']\n",
            "07:13:32 - cmdstanpy - INFO - Chain [1] start processing\n",
            "INFO:cmdstanpy:Chain [1] start processing\n",
            "07:13:34 - cmdstanpy - INFO - Chain [1] done processing\n",
            "INFO:cmdstanpy:Chain [1] done processing\n",
            "INFO:prophet:Disabling daily seasonality. Run prophet with daily_seasonality=True to override this.\n",
            "DEBUG:cmdstanpy:input tempfile: /tmp/tmpo9cahvox/qkw9h7kc.json\n"
          ]
        },
        {
          "output_type": "stream",
          "name": "stdout",
          "text": [
            "MAE: 299.91201278028194\n",
            "Evaluating parameters: {'changepoint_prior_scale': 0.01, 'growth': 'logistic', 'seasonality_mode': 'additive', 'seasonality_prior_scale': 5.0}\n"
          ]
        },
        {
          "output_type": "stream",
          "name": "stderr",
          "text": [
            "DEBUG:cmdstanpy:input tempfile: /tmp/tmpo9cahvox/ivlrn_u8.json\n",
            "DEBUG:cmdstanpy:idx 0\n",
            "DEBUG:cmdstanpy:running CmdStan, num_threads: None\n",
            "DEBUG:cmdstanpy:CmdStan args: ['/usr/local/lib/python3.11/dist-packages/prophet/stan_model/prophet_model.bin', 'random', 'seed=14871', 'data', 'file=/tmp/tmpo9cahvox/qkw9h7kc.json', 'init=/tmp/tmpo9cahvox/ivlrn_u8.json', 'output', 'file=/tmp/tmpo9cahvox/prophet_modeln_77s4dt/prophet_model-20250126071335.csv', 'method=optimize', 'algorithm=lbfgs', 'iter=10000']\n",
            "07:13:35 - cmdstanpy - INFO - Chain [1] start processing\n",
            "INFO:cmdstanpy:Chain [1] start processing\n",
            "07:13:35 - cmdstanpy - INFO - Chain [1] done processing\n",
            "INFO:cmdstanpy:Chain [1] done processing\n",
            "INFO:prophet:Disabling daily seasonality. Run prophet with daily_seasonality=True to override this.\n",
            "DEBUG:cmdstanpy:input tempfile: /tmp/tmpo9cahvox/l4vgit8b.json\n"
          ]
        },
        {
          "output_type": "stream",
          "name": "stdout",
          "text": [
            "MAE: 49.78772313700295\n",
            "Evaluating parameters: {'changepoint_prior_scale': 0.01, 'growth': 'logistic', 'seasonality_mode': 'additive', 'seasonality_prior_scale': 10.0}\n"
          ]
        },
        {
          "output_type": "stream",
          "name": "stderr",
          "text": [
            "DEBUG:cmdstanpy:input tempfile: /tmp/tmpo9cahvox/y54neyym.json\n",
            "DEBUG:cmdstanpy:idx 0\n",
            "DEBUG:cmdstanpy:running CmdStan, num_threads: None\n",
            "DEBUG:cmdstanpy:CmdStan args: ['/usr/local/lib/python3.11/dist-packages/prophet/stan_model/prophet_model.bin', 'random', 'seed=24483', 'data', 'file=/tmp/tmpo9cahvox/l4vgit8b.json', 'init=/tmp/tmpo9cahvox/y54neyym.json', 'output', 'file=/tmp/tmpo9cahvox/prophet_modeltcfr9v7u/prophet_model-20250126071348.csv', 'method=optimize', 'algorithm=lbfgs', 'iter=10000']\n",
            "07:13:48 - cmdstanpy - INFO - Chain [1] start processing\n",
            "INFO:cmdstanpy:Chain [1] start processing\n",
            "07:13:48 - cmdstanpy - INFO - Chain [1] done processing\n",
            "INFO:cmdstanpy:Chain [1] done processing\n",
            "INFO:prophet:Disabling daily seasonality. Run prophet with daily_seasonality=True to override this.\n",
            "DEBUG:cmdstanpy:input tempfile: /tmp/tmpo9cahvox/hrsp1uh3.json\n"
          ]
        },
        {
          "output_type": "stream",
          "name": "stdout",
          "text": [
            "MAE: 49.79140492879752\n",
            "Evaluating parameters: {'changepoint_prior_scale': 0.01, 'growth': 'logistic', 'seasonality_mode': 'additive', 'seasonality_prior_scale': 20.0}\n"
          ]
        },
        {
          "output_type": "stream",
          "name": "stderr",
          "text": [
            "DEBUG:cmdstanpy:input tempfile: /tmp/tmpo9cahvox/w53b9atx.json\n",
            "DEBUG:cmdstanpy:idx 0\n",
            "DEBUG:cmdstanpy:running CmdStan, num_threads: None\n",
            "DEBUG:cmdstanpy:CmdStan args: ['/usr/local/lib/python3.11/dist-packages/prophet/stan_model/prophet_model.bin', 'random', 'seed=20646', 'data', 'file=/tmp/tmpo9cahvox/hrsp1uh3.json', 'init=/tmp/tmpo9cahvox/w53b9atx.json', 'output', 'file=/tmp/tmpo9cahvox/prophet_model0c9k57iu/prophet_model-20250126071401.csv', 'method=optimize', 'algorithm=lbfgs', 'iter=10000']\n",
            "07:14:01 - cmdstanpy - INFO - Chain [1] start processing\n",
            "INFO:cmdstanpy:Chain [1] start processing\n",
            "07:14:01 - cmdstanpy - INFO - Chain [1] done processing\n",
            "INFO:cmdstanpy:Chain [1] done processing\n",
            "INFO:prophet:Disabling daily seasonality. Run prophet with daily_seasonality=True to override this.\n",
            "DEBUG:cmdstanpy:input tempfile: /tmp/tmpo9cahvox/q6gweb1y.json\n"
          ]
        },
        {
          "output_type": "stream",
          "name": "stdout",
          "text": [
            "MAE: 49.74957180049943\n",
            "Evaluating parameters: {'changepoint_prior_scale': 0.01, 'growth': 'logistic', 'seasonality_mode': 'multiplicative', 'seasonality_prior_scale': 5.0}\n"
          ]
        },
        {
          "output_type": "stream",
          "name": "stderr",
          "text": [
            "DEBUG:cmdstanpy:input tempfile: /tmp/tmpo9cahvox/5rd9e8oz.json\n",
            "DEBUG:cmdstanpy:idx 0\n",
            "DEBUG:cmdstanpy:running CmdStan, num_threads: None\n",
            "DEBUG:cmdstanpy:CmdStan args: ['/usr/local/lib/python3.11/dist-packages/prophet/stan_model/prophet_model.bin', 'random', 'seed=33905', 'data', 'file=/tmp/tmpo9cahvox/q6gweb1y.json', 'init=/tmp/tmpo9cahvox/5rd9e8oz.json', 'output', 'file=/tmp/tmpo9cahvox/prophet_model5h_obm5x/prophet_model-20250126071414.csv', 'method=optimize', 'algorithm=lbfgs', 'iter=10000']\n",
            "07:14:14 - cmdstanpy - INFO - Chain [1] start processing\n",
            "INFO:cmdstanpy:Chain [1] start processing\n",
            "07:14:14 - cmdstanpy - INFO - Chain [1] done processing\n",
            "INFO:cmdstanpy:Chain [1] done processing\n",
            "INFO:prophet:Disabling daily seasonality. Run prophet with daily_seasonality=True to override this.\n",
            "DEBUG:cmdstanpy:input tempfile: /tmp/tmpo9cahvox/5s0jfsek.json\n"
          ]
        },
        {
          "output_type": "stream",
          "name": "stdout",
          "text": [
            "MAE: 313.9879472434073\n",
            "Evaluating parameters: {'changepoint_prior_scale': 0.01, 'growth': 'logistic', 'seasonality_mode': 'multiplicative', 'seasonality_prior_scale': 10.0}\n"
          ]
        },
        {
          "output_type": "stream",
          "name": "stderr",
          "text": [
            "DEBUG:cmdstanpy:input tempfile: /tmp/tmpo9cahvox/p1_eemrz.json\n",
            "DEBUG:cmdstanpy:idx 0\n",
            "DEBUG:cmdstanpy:running CmdStan, num_threads: None\n",
            "DEBUG:cmdstanpy:CmdStan args: ['/usr/local/lib/python3.11/dist-packages/prophet/stan_model/prophet_model.bin', 'random', 'seed=73210', 'data', 'file=/tmp/tmpo9cahvox/5s0jfsek.json', 'init=/tmp/tmpo9cahvox/p1_eemrz.json', 'output', 'file=/tmp/tmpo9cahvox/prophet_modelz_p4xj3e/prophet_model-20250126071427.csv', 'method=optimize', 'algorithm=lbfgs', 'iter=10000']\n",
            "07:14:27 - cmdstanpy - INFO - Chain [1] start processing\n",
            "INFO:cmdstanpy:Chain [1] start processing\n",
            "07:14:27 - cmdstanpy - INFO - Chain [1] done processing\n",
            "INFO:cmdstanpy:Chain [1] done processing\n",
            "INFO:prophet:Disabling daily seasonality. Run prophet with daily_seasonality=True to override this.\n",
            "DEBUG:cmdstanpy:input tempfile: /tmp/tmpo9cahvox/fmq2n43b.json\n"
          ]
        },
        {
          "output_type": "stream",
          "name": "stdout",
          "text": [
            "MAE: 310.12055624195636\n",
            "Evaluating parameters: {'changepoint_prior_scale': 0.01, 'growth': 'logistic', 'seasonality_mode': 'multiplicative', 'seasonality_prior_scale': 20.0}\n"
          ]
        },
        {
          "output_type": "stream",
          "name": "stderr",
          "text": [
            "DEBUG:cmdstanpy:input tempfile: /tmp/tmpo9cahvox/bxy7gcmq.json\n",
            "DEBUG:cmdstanpy:idx 0\n",
            "DEBUG:cmdstanpy:running CmdStan, num_threads: None\n",
            "DEBUG:cmdstanpy:CmdStan args: ['/usr/local/lib/python3.11/dist-packages/prophet/stan_model/prophet_model.bin', 'random', 'seed=40791', 'data', 'file=/tmp/tmpo9cahvox/fmq2n43b.json', 'init=/tmp/tmpo9cahvox/bxy7gcmq.json', 'output', 'file=/tmp/tmpo9cahvox/prophet_modelxxqf35m2/prophet_model-20250126071440.csv', 'method=optimize', 'algorithm=lbfgs', 'iter=10000']\n",
            "07:14:40 - cmdstanpy - INFO - Chain [1] start processing\n",
            "INFO:cmdstanpy:Chain [1] start processing\n",
            "07:14:40 - cmdstanpy - INFO - Chain [1] done processing\n",
            "INFO:cmdstanpy:Chain [1] done processing\n",
            "INFO:prophet:Disabling daily seasonality. Run prophet with daily_seasonality=True to override this.\n",
            "DEBUG:cmdstanpy:input tempfile: /tmp/tmpo9cahvox/iwwsyiy_.json\n"
          ]
        },
        {
          "output_type": "stream",
          "name": "stdout",
          "text": [
            "MAE: 313.3000315795449\n",
            "Evaluating parameters: {'changepoint_prior_scale': 0.1, 'growth': 'linear', 'seasonality_mode': 'additive', 'seasonality_prior_scale': 5.0}\n"
          ]
        },
        {
          "output_type": "stream",
          "name": "stderr",
          "text": [
            "DEBUG:cmdstanpy:input tempfile: /tmp/tmpo9cahvox/v5q261_w.json\n",
            "DEBUG:cmdstanpy:idx 0\n",
            "DEBUG:cmdstanpy:running CmdStan, num_threads: None\n",
            "DEBUG:cmdstanpy:CmdStan args: ['/usr/local/lib/python3.11/dist-packages/prophet/stan_model/prophet_model.bin', 'random', 'seed=80439', 'data', 'file=/tmp/tmpo9cahvox/iwwsyiy_.json', 'init=/tmp/tmpo9cahvox/v5q261_w.json', 'output', 'file=/tmp/tmpo9cahvox/prophet_model8ohd5wim/prophet_model-20250126071454.csv', 'method=optimize', 'algorithm=lbfgs', 'iter=10000']\n",
            "07:14:54 - cmdstanpy - INFO - Chain [1] start processing\n",
            "INFO:cmdstanpy:Chain [1] start processing\n",
            "07:14:55 - cmdstanpy - INFO - Chain [1] done processing\n",
            "INFO:cmdstanpy:Chain [1] done processing\n",
            "INFO:prophet:Disabling daily seasonality. Run prophet with daily_seasonality=True to override this.\n",
            "DEBUG:cmdstanpy:input tempfile: /tmp/tmpo9cahvox/2dtgce67.json\n"
          ]
        },
        {
          "output_type": "stream",
          "name": "stdout",
          "text": [
            "MAE: 136.9386601136025\n",
            "Evaluating parameters: {'changepoint_prior_scale': 0.1, 'growth': 'linear', 'seasonality_mode': 'additive', 'seasonality_prior_scale': 10.0}\n"
          ]
        },
        {
          "output_type": "stream",
          "name": "stderr",
          "text": [
            "DEBUG:cmdstanpy:input tempfile: /tmp/tmpo9cahvox/ugdforcz.json\n",
            "DEBUG:cmdstanpy:idx 0\n",
            "DEBUG:cmdstanpy:running CmdStan, num_threads: None\n",
            "DEBUG:cmdstanpy:CmdStan args: ['/usr/local/lib/python3.11/dist-packages/prophet/stan_model/prophet_model.bin', 'random', 'seed=72533', 'data', 'file=/tmp/tmpo9cahvox/2dtgce67.json', 'init=/tmp/tmpo9cahvox/ugdforcz.json', 'output', 'file=/tmp/tmpo9cahvox/prophet_modelregegzrl/prophet_model-20250126071456.csv', 'method=optimize', 'algorithm=lbfgs', 'iter=10000']\n",
            "07:14:56 - cmdstanpy - INFO - Chain [1] start processing\n",
            "INFO:cmdstanpy:Chain [1] start processing\n",
            "07:14:58 - cmdstanpy - INFO - Chain [1] done processing\n",
            "INFO:cmdstanpy:Chain [1] done processing\n",
            "INFO:prophet:Disabling daily seasonality. Run prophet with daily_seasonality=True to override this.\n",
            "DEBUG:cmdstanpy:input tempfile: /tmp/tmpo9cahvox/wabqkr_s.json\n"
          ]
        },
        {
          "output_type": "stream",
          "name": "stdout",
          "text": [
            "MAE: 137.37597119571197\n",
            "Evaluating parameters: {'changepoint_prior_scale': 0.1, 'growth': 'linear', 'seasonality_mode': 'additive', 'seasonality_prior_scale': 20.0}\n"
          ]
        },
        {
          "output_type": "stream",
          "name": "stderr",
          "text": [
            "DEBUG:cmdstanpy:input tempfile: /tmp/tmpo9cahvox/h5clzim1.json\n",
            "DEBUG:cmdstanpy:idx 0\n",
            "DEBUG:cmdstanpy:running CmdStan, num_threads: None\n",
            "DEBUG:cmdstanpy:CmdStan args: ['/usr/local/lib/python3.11/dist-packages/prophet/stan_model/prophet_model.bin', 'random', 'seed=30708', 'data', 'file=/tmp/tmpo9cahvox/wabqkr_s.json', 'init=/tmp/tmpo9cahvox/h5clzim1.json', 'output', 'file=/tmp/tmpo9cahvox/prophet_modeljijnz9gg/prophet_model-20250126071459.csv', 'method=optimize', 'algorithm=lbfgs', 'iter=10000']\n",
            "07:14:59 - cmdstanpy - INFO - Chain [1] start processing\n",
            "INFO:cmdstanpy:Chain [1] start processing\n",
            "07:15:01 - cmdstanpy - INFO - Chain [1] done processing\n",
            "INFO:cmdstanpy:Chain [1] done processing\n",
            "INFO:prophet:Disabling daily seasonality. Run prophet with daily_seasonality=True to override this.\n",
            "DEBUG:cmdstanpy:input tempfile: /tmp/tmpo9cahvox/k3o27x33.json\n"
          ]
        },
        {
          "output_type": "stream",
          "name": "stdout",
          "text": [
            "MAE: 136.85186647884277\n",
            "Evaluating parameters: {'changepoint_prior_scale': 0.1, 'growth': 'linear', 'seasonality_mode': 'multiplicative', 'seasonality_prior_scale': 5.0}\n"
          ]
        },
        {
          "output_type": "stream",
          "name": "stderr",
          "text": [
            "DEBUG:cmdstanpy:input tempfile: /tmp/tmpo9cahvox/4rb26bzz.json\n",
            "DEBUG:cmdstanpy:idx 0\n",
            "DEBUG:cmdstanpy:running CmdStan, num_threads: None\n",
            "DEBUG:cmdstanpy:CmdStan args: ['/usr/local/lib/python3.11/dist-packages/prophet/stan_model/prophet_model.bin', 'random', 'seed=97992', 'data', 'file=/tmp/tmpo9cahvox/k3o27x33.json', 'init=/tmp/tmpo9cahvox/4rb26bzz.json', 'output', 'file=/tmp/tmpo9cahvox/prophet_modeleyk77ye6/prophet_model-20250126071502.csv', 'method=optimize', 'algorithm=lbfgs', 'iter=10000']\n",
            "07:15:02 - cmdstanpy - INFO - Chain [1] start processing\n",
            "INFO:cmdstanpy:Chain [1] start processing\n",
            "07:15:05 - cmdstanpy - INFO - Chain [1] done processing\n",
            "INFO:cmdstanpy:Chain [1] done processing\n",
            "INFO:prophet:Disabling daily seasonality. Run prophet with daily_seasonality=True to override this.\n",
            "DEBUG:cmdstanpy:input tempfile: /tmp/tmpo9cahvox/t9yq8wmx.json\n"
          ]
        },
        {
          "output_type": "stream",
          "name": "stdout",
          "text": [
            "MAE: 308.1320589297746\n",
            "Evaluating parameters: {'changepoint_prior_scale': 0.1, 'growth': 'linear', 'seasonality_mode': 'multiplicative', 'seasonality_prior_scale': 10.0}\n"
          ]
        },
        {
          "output_type": "stream",
          "name": "stderr",
          "text": [
            "DEBUG:cmdstanpy:input tempfile: /tmp/tmpo9cahvox/913hkjrw.json\n",
            "DEBUG:cmdstanpy:idx 0\n",
            "DEBUG:cmdstanpy:running CmdStan, num_threads: None\n",
            "DEBUG:cmdstanpy:CmdStan args: ['/usr/local/lib/python3.11/dist-packages/prophet/stan_model/prophet_model.bin', 'random', 'seed=13945', 'data', 'file=/tmp/tmpo9cahvox/t9yq8wmx.json', 'init=/tmp/tmpo9cahvox/913hkjrw.json', 'output', 'file=/tmp/tmpo9cahvox/prophet_model7hvnprj5/prophet_model-20250126071506.csv', 'method=optimize', 'algorithm=lbfgs', 'iter=10000']\n",
            "07:15:06 - cmdstanpy - INFO - Chain [1] start processing\n",
            "INFO:cmdstanpy:Chain [1] start processing\n",
            "07:15:10 - cmdstanpy - INFO - Chain [1] done processing\n",
            "INFO:cmdstanpy:Chain [1] done processing\n",
            "INFO:prophet:Disabling daily seasonality. Run prophet with daily_seasonality=True to override this.\n",
            "DEBUG:cmdstanpy:input tempfile: /tmp/tmpo9cahvox/6citsh08.json\n"
          ]
        },
        {
          "output_type": "stream",
          "name": "stdout",
          "text": [
            "MAE: 303.2607201681013\n",
            "Evaluating parameters: {'changepoint_prior_scale': 0.1, 'growth': 'linear', 'seasonality_mode': 'multiplicative', 'seasonality_prior_scale': 20.0}\n"
          ]
        },
        {
          "output_type": "stream",
          "name": "stderr",
          "text": [
            "DEBUG:cmdstanpy:input tempfile: /tmp/tmpo9cahvox/ccowcaw7.json\n",
            "DEBUG:cmdstanpy:idx 0\n",
            "DEBUG:cmdstanpy:running CmdStan, num_threads: None\n",
            "DEBUG:cmdstanpy:CmdStan args: ['/usr/local/lib/python3.11/dist-packages/prophet/stan_model/prophet_model.bin', 'random', 'seed=89735', 'data', 'file=/tmp/tmpo9cahvox/6citsh08.json', 'init=/tmp/tmpo9cahvox/ccowcaw7.json', 'output', 'file=/tmp/tmpo9cahvox/prophet_modelz7o962jn/prophet_model-20250126071511.csv', 'method=optimize', 'algorithm=lbfgs', 'iter=10000']\n",
            "07:15:11 - cmdstanpy - INFO - Chain [1] start processing\n",
            "INFO:cmdstanpy:Chain [1] start processing\n",
            "07:15:15 - cmdstanpy - INFO - Chain [1] done processing\n",
            "INFO:cmdstanpy:Chain [1] done processing\n",
            "INFO:prophet:Disabling daily seasonality. Run prophet with daily_seasonality=True to override this.\n",
            "DEBUG:cmdstanpy:input tempfile: /tmp/tmpo9cahvox/pizcji5c.json\n"
          ]
        },
        {
          "output_type": "stream",
          "name": "stdout",
          "text": [
            "MAE: 297.9863164190899\n",
            "Evaluating parameters: {'changepoint_prior_scale': 0.1, 'growth': 'logistic', 'seasonality_mode': 'additive', 'seasonality_prior_scale': 5.0}\n"
          ]
        },
        {
          "output_type": "stream",
          "name": "stderr",
          "text": [
            "DEBUG:cmdstanpy:input tempfile: /tmp/tmpo9cahvox/yqb4l5gi.json\n",
            "DEBUG:cmdstanpy:idx 0\n",
            "DEBUG:cmdstanpy:running CmdStan, num_threads: None\n",
            "DEBUG:cmdstanpy:CmdStan args: ['/usr/local/lib/python3.11/dist-packages/prophet/stan_model/prophet_model.bin', 'random', 'seed=41734', 'data', 'file=/tmp/tmpo9cahvox/pizcji5c.json', 'init=/tmp/tmpo9cahvox/yqb4l5gi.json', 'output', 'file=/tmp/tmpo9cahvox/prophet_modelab5e1kbr/prophet_model-20250126071517.csv', 'method=optimize', 'algorithm=lbfgs', 'iter=10000']\n",
            "07:15:17 - cmdstanpy - INFO - Chain [1] start processing\n",
            "INFO:cmdstanpy:Chain [1] start processing\n",
            "07:15:22 - cmdstanpy - INFO - Chain [1] done processing\n",
            "INFO:cmdstanpy:Chain [1] done processing\n",
            "INFO:prophet:Disabling daily seasonality. Run prophet with daily_seasonality=True to override this.\n",
            "DEBUG:cmdstanpy:input tempfile: /tmp/tmpo9cahvox/282cxryu.json\n"
          ]
        },
        {
          "output_type": "stream",
          "name": "stdout",
          "text": [
            "MAE: 146.93789602416103\n",
            "Evaluating parameters: {'changepoint_prior_scale': 0.1, 'growth': 'logistic', 'seasonality_mode': 'additive', 'seasonality_prior_scale': 10.0}\n"
          ]
        },
        {
          "output_type": "stream",
          "name": "stderr",
          "text": [
            "DEBUG:cmdstanpy:input tempfile: /tmp/tmpo9cahvox/ttyn5a45.json\n",
            "DEBUG:cmdstanpy:idx 0\n",
            "DEBUG:cmdstanpy:running CmdStan, num_threads: None\n",
            "DEBUG:cmdstanpy:CmdStan args: ['/usr/local/lib/python3.11/dist-packages/prophet/stan_model/prophet_model.bin', 'random', 'seed=26828', 'data', 'file=/tmp/tmpo9cahvox/282cxryu.json', 'init=/tmp/tmpo9cahvox/ttyn5a45.json', 'output', 'file=/tmp/tmpo9cahvox/prophet_modelpyrfde6o/prophet_model-20250126071534.csv', 'method=optimize', 'algorithm=lbfgs', 'iter=10000']\n",
            "07:15:34 - cmdstanpy - INFO - Chain [1] start processing\n",
            "INFO:cmdstanpy:Chain [1] start processing\n",
            "07:15:38 - cmdstanpy - INFO - Chain [1] done processing\n",
            "INFO:cmdstanpy:Chain [1] done processing\n",
            "INFO:prophet:Disabling daily seasonality. Run prophet with daily_seasonality=True to override this.\n",
            "DEBUG:cmdstanpy:input tempfile: /tmp/tmpo9cahvox/jam2t1nx.json\n"
          ]
        },
        {
          "output_type": "stream",
          "name": "stdout",
          "text": [
            "MAE: 147.44422041031888\n",
            "Evaluating parameters: {'changepoint_prior_scale': 0.1, 'growth': 'logistic', 'seasonality_mode': 'additive', 'seasonality_prior_scale': 20.0}\n"
          ]
        },
        {
          "output_type": "stream",
          "name": "stderr",
          "text": [
            "DEBUG:cmdstanpy:input tempfile: /tmp/tmpo9cahvox/v4u4ne2_.json\n",
            "DEBUG:cmdstanpy:idx 0\n",
            "DEBUG:cmdstanpy:running CmdStan, num_threads: None\n",
            "DEBUG:cmdstanpy:CmdStan args: ['/usr/local/lib/python3.11/dist-packages/prophet/stan_model/prophet_model.bin', 'random', 'seed=33259', 'data', 'file=/tmp/tmpo9cahvox/jam2t1nx.json', 'init=/tmp/tmpo9cahvox/v4u4ne2_.json', 'output', 'file=/tmp/tmpo9cahvox/prophet_model74_f8_c6/prophet_model-20250126071551.csv', 'method=optimize', 'algorithm=lbfgs', 'iter=10000']\n",
            "07:15:51 - cmdstanpy - INFO - Chain [1] start processing\n",
            "INFO:cmdstanpy:Chain [1] start processing\n",
            "07:15:55 - cmdstanpy - INFO - Chain [1] done processing\n",
            "INFO:cmdstanpy:Chain [1] done processing\n",
            "INFO:prophet:Disabling daily seasonality. Run prophet with daily_seasonality=True to override this.\n",
            "DEBUG:cmdstanpy:input tempfile: /tmp/tmpo9cahvox/0lcwdny_.json\n"
          ]
        },
        {
          "output_type": "stream",
          "name": "stdout",
          "text": [
            "MAE: 146.5484128284112\n",
            "Evaluating parameters: {'changepoint_prior_scale': 0.1, 'growth': 'logistic', 'seasonality_mode': 'multiplicative', 'seasonality_prior_scale': 5.0}\n"
          ]
        },
        {
          "output_type": "stream",
          "name": "stderr",
          "text": [
            "DEBUG:cmdstanpy:input tempfile: /tmp/tmpo9cahvox/7i61mb4n.json\n",
            "DEBUG:cmdstanpy:idx 0\n",
            "DEBUG:cmdstanpy:running CmdStan, num_threads: None\n",
            "DEBUG:cmdstanpy:CmdStan args: ['/usr/local/lib/python3.11/dist-packages/prophet/stan_model/prophet_model.bin', 'random', 'seed=85856', 'data', 'file=/tmp/tmpo9cahvox/0lcwdny_.json', 'init=/tmp/tmpo9cahvox/7i61mb4n.json', 'output', 'file=/tmp/tmpo9cahvox/prophet_modeln9p_dff3/prophet_model-20250126071608.csv', 'method=optimize', 'algorithm=lbfgs', 'iter=10000']\n",
            "07:16:08 - cmdstanpy - INFO - Chain [1] start processing\n",
            "INFO:cmdstanpy:Chain [1] start processing\n",
            "07:16:09 - cmdstanpy - INFO - Chain [1] done processing\n",
            "INFO:cmdstanpy:Chain [1] done processing\n",
            "INFO:prophet:Disabling daily seasonality. Run prophet with daily_seasonality=True to override this.\n",
            "DEBUG:cmdstanpy:input tempfile: /tmp/tmpo9cahvox/3_nvlnfj.json\n"
          ]
        },
        {
          "output_type": "stream",
          "name": "stdout",
          "text": [
            "MAE: 315.49258621405477\n",
            "Evaluating parameters: {'changepoint_prior_scale': 0.1, 'growth': 'logistic', 'seasonality_mode': 'multiplicative', 'seasonality_prior_scale': 10.0}\n"
          ]
        },
        {
          "output_type": "stream",
          "name": "stderr",
          "text": [
            "DEBUG:cmdstanpy:input tempfile: /tmp/tmpo9cahvox/y5mz6zrc.json\n",
            "DEBUG:cmdstanpy:idx 0\n",
            "DEBUG:cmdstanpy:running CmdStan, num_threads: None\n",
            "DEBUG:cmdstanpy:CmdStan args: ['/usr/local/lib/python3.11/dist-packages/prophet/stan_model/prophet_model.bin', 'random', 'seed=25227', 'data', 'file=/tmp/tmpo9cahvox/3_nvlnfj.json', 'init=/tmp/tmpo9cahvox/y5mz6zrc.json', 'output', 'file=/tmp/tmpo9cahvox/prophet_model8fohdeek/prophet_model-20250126071622.csv', 'method=optimize', 'algorithm=lbfgs', 'iter=10000']\n",
            "07:16:22 - cmdstanpy - INFO - Chain [1] start processing\n",
            "INFO:cmdstanpy:Chain [1] start processing\n",
            "07:16:25 - cmdstanpy - INFO - Chain [1] done processing\n",
            "INFO:cmdstanpy:Chain [1] done processing\n",
            "INFO:prophet:Disabling daily seasonality. Run prophet with daily_seasonality=True to override this.\n",
            "DEBUG:cmdstanpy:input tempfile: /tmp/tmpo9cahvox/yesubx28.json\n"
          ]
        },
        {
          "output_type": "stream",
          "name": "stdout",
          "text": [
            "MAE: 315.5678528096769\n",
            "Evaluating parameters: {'changepoint_prior_scale': 0.1, 'growth': 'logistic', 'seasonality_mode': 'multiplicative', 'seasonality_prior_scale': 20.0}\n"
          ]
        },
        {
          "output_type": "stream",
          "name": "stderr",
          "text": [
            "DEBUG:cmdstanpy:input tempfile: /tmp/tmpo9cahvox/01u9mo3e.json\n",
            "DEBUG:cmdstanpy:idx 0\n",
            "DEBUG:cmdstanpy:running CmdStan, num_threads: None\n",
            "DEBUG:cmdstanpy:CmdStan args: ['/usr/local/lib/python3.11/dist-packages/prophet/stan_model/prophet_model.bin', 'random', 'seed=4087', 'data', 'file=/tmp/tmpo9cahvox/yesubx28.json', 'init=/tmp/tmpo9cahvox/01u9mo3e.json', 'output', 'file=/tmp/tmpo9cahvox/prophet_model8ihpln4y/prophet_model-20250126071638.csv', 'method=optimize', 'algorithm=lbfgs', 'iter=10000']\n",
            "07:16:38 - cmdstanpy - INFO - Chain [1] start processing\n",
            "INFO:cmdstanpy:Chain [1] start processing\n",
            "07:16:41 - cmdstanpy - INFO - Chain [1] done processing\n",
            "INFO:cmdstanpy:Chain [1] done processing\n",
            "INFO:prophet:Disabling daily seasonality. Run prophet with daily_seasonality=True to override this.\n",
            "DEBUG:cmdstanpy:input tempfile: /tmp/tmpo9cahvox/i7s5yui4.json\n"
          ]
        },
        {
          "output_type": "stream",
          "name": "stdout",
          "text": [
            "MAE: 315.97423719886257\n",
            "Evaluating parameters: {'changepoint_prior_scale': 0.5, 'growth': 'linear', 'seasonality_mode': 'additive', 'seasonality_prior_scale': 5.0}\n"
          ]
        },
        {
          "output_type": "stream",
          "name": "stderr",
          "text": [
            "DEBUG:cmdstanpy:input tempfile: /tmp/tmpo9cahvox/a2sh2wjt.json\n",
            "DEBUG:cmdstanpy:idx 0\n",
            "DEBUG:cmdstanpy:running CmdStan, num_threads: None\n",
            "DEBUG:cmdstanpy:CmdStan args: ['/usr/local/lib/python3.11/dist-packages/prophet/stan_model/prophet_model.bin', 'random', 'seed=92732', 'data', 'file=/tmp/tmpo9cahvox/i7s5yui4.json', 'init=/tmp/tmpo9cahvox/a2sh2wjt.json', 'output', 'file=/tmp/tmpo9cahvox/prophet_modelwv6160__/prophet_model-20250126071653.csv', 'method=optimize', 'algorithm=lbfgs', 'iter=10000']\n",
            "07:16:53 - cmdstanpy - INFO - Chain [1] start processing\n",
            "INFO:cmdstanpy:Chain [1] start processing\n",
            "07:16:56 - cmdstanpy - INFO - Chain [1] done processing\n",
            "INFO:cmdstanpy:Chain [1] done processing\n",
            "INFO:prophet:Disabling daily seasonality. Run prophet with daily_seasonality=True to override this.\n",
            "DEBUG:cmdstanpy:input tempfile: /tmp/tmpo9cahvox/qqa9hvff.json\n"
          ]
        },
        {
          "output_type": "stream",
          "name": "stdout",
          "text": [
            "MAE: 140.98937627361528\n",
            "Evaluating parameters: {'changepoint_prior_scale': 0.5, 'growth': 'linear', 'seasonality_mode': 'additive', 'seasonality_prior_scale': 10.0}\n"
          ]
        },
        {
          "output_type": "stream",
          "name": "stderr",
          "text": [
            "DEBUG:cmdstanpy:input tempfile: /tmp/tmpo9cahvox/365mlsf_.json\n",
            "DEBUG:cmdstanpy:idx 0\n",
            "DEBUG:cmdstanpy:running CmdStan, num_threads: None\n",
            "DEBUG:cmdstanpy:CmdStan args: ['/usr/local/lib/python3.11/dist-packages/prophet/stan_model/prophet_model.bin', 'random', 'seed=76463', 'data', 'file=/tmp/tmpo9cahvox/qqa9hvff.json', 'init=/tmp/tmpo9cahvox/365mlsf_.json', 'output', 'file=/tmp/tmpo9cahvox/prophet_model1kvr_0cu/prophet_model-20250126071657.csv', 'method=optimize', 'algorithm=lbfgs', 'iter=10000']\n",
            "07:16:57 - cmdstanpy - INFO - Chain [1] start processing\n",
            "INFO:cmdstanpy:Chain [1] start processing\n",
            "07:17:00 - cmdstanpy - INFO - Chain [1] done processing\n",
            "INFO:cmdstanpy:Chain [1] done processing\n",
            "INFO:prophet:Disabling daily seasonality. Run prophet with daily_seasonality=True to override this.\n",
            "DEBUG:cmdstanpy:input tempfile: /tmp/tmpo9cahvox/62_pazit.json\n"
          ]
        },
        {
          "output_type": "stream",
          "name": "stdout",
          "text": [
            "MAE: 140.94516337940956\n",
            "Evaluating parameters: {'changepoint_prior_scale': 0.5, 'growth': 'linear', 'seasonality_mode': 'additive', 'seasonality_prior_scale': 20.0}\n"
          ]
        },
        {
          "output_type": "stream",
          "name": "stderr",
          "text": [
            "DEBUG:cmdstanpy:input tempfile: /tmp/tmpo9cahvox/ocml4v6p.json\n",
            "DEBUG:cmdstanpy:idx 0\n",
            "DEBUG:cmdstanpy:running CmdStan, num_threads: None\n",
            "DEBUG:cmdstanpy:CmdStan args: ['/usr/local/lib/python3.11/dist-packages/prophet/stan_model/prophet_model.bin', 'random', 'seed=82973', 'data', 'file=/tmp/tmpo9cahvox/62_pazit.json', 'init=/tmp/tmpo9cahvox/ocml4v6p.json', 'output', 'file=/tmp/tmpo9cahvox/prophet_modelreh66ad7/prophet_model-20250126071701.csv', 'method=optimize', 'algorithm=lbfgs', 'iter=10000']\n",
            "07:17:01 - cmdstanpy - INFO - Chain [1] start processing\n",
            "INFO:cmdstanpy:Chain [1] start processing\n",
            "07:17:04 - cmdstanpy - INFO - Chain [1] done processing\n",
            "INFO:cmdstanpy:Chain [1] done processing\n",
            "INFO:prophet:Disabling daily seasonality. Run prophet with daily_seasonality=True to override this.\n",
            "DEBUG:cmdstanpy:input tempfile: /tmp/tmpo9cahvox/qpnzdpyy.json\n"
          ]
        },
        {
          "output_type": "stream",
          "name": "stdout",
          "text": [
            "MAE: 140.89500007939807\n",
            "Evaluating parameters: {'changepoint_prior_scale': 0.5, 'growth': 'linear', 'seasonality_mode': 'multiplicative', 'seasonality_prior_scale': 5.0}\n"
          ]
        },
        {
          "output_type": "stream",
          "name": "stderr",
          "text": [
            "DEBUG:cmdstanpy:input tempfile: /tmp/tmpo9cahvox/7ynaeu8h.json\n",
            "DEBUG:cmdstanpy:idx 0\n",
            "DEBUG:cmdstanpy:running CmdStan, num_threads: None\n",
            "DEBUG:cmdstanpy:CmdStan args: ['/usr/local/lib/python3.11/dist-packages/prophet/stan_model/prophet_model.bin', 'random', 'seed=10128', 'data', 'file=/tmp/tmpo9cahvox/qpnzdpyy.json', 'init=/tmp/tmpo9cahvox/7ynaeu8h.json', 'output', 'file=/tmp/tmpo9cahvox/prophet_modelnj1xyw9g/prophet_model-20250126071705.csv', 'method=optimize', 'algorithm=lbfgs', 'iter=10000']\n",
            "07:17:05 - cmdstanpy - INFO - Chain [1] start processing\n",
            "INFO:cmdstanpy:Chain [1] start processing\n",
            "07:17:08 - cmdstanpy - INFO - Chain [1] done processing\n",
            "INFO:cmdstanpy:Chain [1] done processing\n",
            "INFO:prophet:Disabling daily seasonality. Run prophet with daily_seasonality=True to override this.\n",
            "DEBUG:cmdstanpy:input tempfile: /tmp/tmpo9cahvox/zsulmgle.json\n"
          ]
        },
        {
          "output_type": "stream",
          "name": "stdout",
          "text": [
            "MAE: 278.48293645213533\n",
            "Evaluating parameters: {'changepoint_prior_scale': 0.5, 'growth': 'linear', 'seasonality_mode': 'multiplicative', 'seasonality_prior_scale': 10.0}\n"
          ]
        },
        {
          "output_type": "stream",
          "name": "stderr",
          "text": [
            "DEBUG:cmdstanpy:input tempfile: /tmp/tmpo9cahvox/yk6v6whp.json\n",
            "DEBUG:cmdstanpy:idx 0\n",
            "DEBUG:cmdstanpy:running CmdStan, num_threads: None\n",
            "DEBUG:cmdstanpy:CmdStan args: ['/usr/local/lib/python3.11/dist-packages/prophet/stan_model/prophet_model.bin', 'random', 'seed=7462', 'data', 'file=/tmp/tmpo9cahvox/zsulmgle.json', 'init=/tmp/tmpo9cahvox/yk6v6whp.json', 'output', 'file=/tmp/tmpo9cahvox/prophet_modeleo2vlqw2/prophet_model-20250126071709.csv', 'method=optimize', 'algorithm=lbfgs', 'iter=10000']\n",
            "07:17:09 - cmdstanpy - INFO - Chain [1] start processing\n",
            "INFO:cmdstanpy:Chain [1] start processing\n",
            "07:17:11 - cmdstanpy - INFO - Chain [1] done processing\n",
            "INFO:cmdstanpy:Chain [1] done processing\n",
            "INFO:prophet:Disabling daily seasonality. Run prophet with daily_seasonality=True to override this.\n",
            "DEBUG:cmdstanpy:input tempfile: /tmp/tmpo9cahvox/p14zkqo6.json\n"
          ]
        },
        {
          "output_type": "stream",
          "name": "stdout",
          "text": [
            "MAE: 276.0807214543815\n",
            "Evaluating parameters: {'changepoint_prior_scale': 0.5, 'growth': 'linear', 'seasonality_mode': 'multiplicative', 'seasonality_prior_scale': 20.0}\n"
          ]
        },
        {
          "output_type": "stream",
          "name": "stderr",
          "text": [
            "DEBUG:cmdstanpy:input tempfile: /tmp/tmpo9cahvox/qs2yw7j0.json\n",
            "DEBUG:cmdstanpy:idx 0\n",
            "DEBUG:cmdstanpy:running CmdStan, num_threads: None\n",
            "DEBUG:cmdstanpy:CmdStan args: ['/usr/local/lib/python3.11/dist-packages/prophet/stan_model/prophet_model.bin', 'random', 'seed=31590', 'data', 'file=/tmp/tmpo9cahvox/p14zkqo6.json', 'init=/tmp/tmpo9cahvox/qs2yw7j0.json', 'output', 'file=/tmp/tmpo9cahvox/prophet_modelmmznw8b9/prophet_model-20250126071712.csv', 'method=optimize', 'algorithm=lbfgs', 'iter=10000']\n",
            "07:17:12 - cmdstanpy - INFO - Chain [1] start processing\n",
            "INFO:cmdstanpy:Chain [1] start processing\n",
            "07:17:14 - cmdstanpy - INFO - Chain [1] done processing\n",
            "INFO:cmdstanpy:Chain [1] done processing\n",
            "INFO:prophet:Disabling daily seasonality. Run prophet with daily_seasonality=True to override this.\n",
            "DEBUG:cmdstanpy:input tempfile: /tmp/tmpo9cahvox/eq0yk0gl.json\n"
          ]
        },
        {
          "output_type": "stream",
          "name": "stdout",
          "text": [
            "MAE: 259.9415946449612\n",
            "Evaluating parameters: {'changepoint_prior_scale': 0.5, 'growth': 'logistic', 'seasonality_mode': 'additive', 'seasonality_prior_scale': 5.0}\n"
          ]
        },
        {
          "output_type": "stream",
          "name": "stderr",
          "text": [
            "DEBUG:cmdstanpy:input tempfile: /tmp/tmpo9cahvox/hxbbbqn5.json\n",
            "DEBUG:cmdstanpy:idx 0\n",
            "DEBUG:cmdstanpy:running CmdStan, num_threads: None\n",
            "DEBUG:cmdstanpy:CmdStan args: ['/usr/local/lib/python3.11/dist-packages/prophet/stan_model/prophet_model.bin', 'random', 'seed=55671', 'data', 'file=/tmp/tmpo9cahvox/eq0yk0gl.json', 'init=/tmp/tmpo9cahvox/hxbbbqn5.json', 'output', 'file=/tmp/tmpo9cahvox/prophet_modeli0h8e0wg/prophet_model-20250126071715.csv', 'method=optimize', 'algorithm=lbfgs', 'iter=10000']\n",
            "07:17:15 - cmdstanpy - INFO - Chain [1] start processing\n",
            "INFO:cmdstanpy:Chain [1] start processing\n",
            "07:17:16 - cmdstanpy - INFO - Chain [1] done processing\n",
            "INFO:cmdstanpy:Chain [1] done processing\n",
            "INFO:prophet:Disabling daily seasonality. Run prophet with daily_seasonality=True to override this.\n",
            "DEBUG:cmdstanpy:input tempfile: /tmp/tmpo9cahvox/zeq5puzd.json\n"
          ]
        },
        {
          "output_type": "stream",
          "name": "stdout",
          "text": [
            "MAE: 150.45771144222599\n",
            "Evaluating parameters: {'changepoint_prior_scale': 0.5, 'growth': 'logistic', 'seasonality_mode': 'additive', 'seasonality_prior_scale': 10.0}\n"
          ]
        },
        {
          "output_type": "stream",
          "name": "stderr",
          "text": [
            "DEBUG:cmdstanpy:input tempfile: /tmp/tmpo9cahvox/ixh0t74m.json\n",
            "DEBUG:cmdstanpy:idx 0\n",
            "DEBUG:cmdstanpy:running CmdStan, num_threads: None\n",
            "DEBUG:cmdstanpy:CmdStan args: ['/usr/local/lib/python3.11/dist-packages/prophet/stan_model/prophet_model.bin', 'random', 'seed=44558', 'data', 'file=/tmp/tmpo9cahvox/zeq5puzd.json', 'init=/tmp/tmpo9cahvox/ixh0t74m.json', 'output', 'file=/tmp/tmpo9cahvox/prophet_modelldj6q6ez/prophet_model-20250126071729.csv', 'method=optimize', 'algorithm=lbfgs', 'iter=10000']\n",
            "07:17:29 - cmdstanpy - INFO - Chain [1] start processing\n",
            "INFO:cmdstanpy:Chain [1] start processing\n",
            "07:17:32 - cmdstanpy - INFO - Chain [1] done processing\n",
            "INFO:cmdstanpy:Chain [1] done processing\n",
            "INFO:prophet:Disabling daily seasonality. Run prophet with daily_seasonality=True to override this.\n",
            "DEBUG:cmdstanpy:input tempfile: /tmp/tmpo9cahvox/drf6xes4.json\n"
          ]
        },
        {
          "output_type": "stream",
          "name": "stdout",
          "text": [
            "MAE: 151.7631043853177\n",
            "Evaluating parameters: {'changepoint_prior_scale': 0.5, 'growth': 'logistic', 'seasonality_mode': 'additive', 'seasonality_prior_scale': 20.0}\n"
          ]
        },
        {
          "output_type": "stream",
          "name": "stderr",
          "text": [
            "DEBUG:cmdstanpy:input tempfile: /tmp/tmpo9cahvox/3z4mkd17.json\n",
            "DEBUG:cmdstanpy:idx 0\n",
            "DEBUG:cmdstanpy:running CmdStan, num_threads: None\n",
            "DEBUG:cmdstanpy:CmdStan args: ['/usr/local/lib/python3.11/dist-packages/prophet/stan_model/prophet_model.bin', 'random', 'seed=13607', 'data', 'file=/tmp/tmpo9cahvox/drf6xes4.json', 'init=/tmp/tmpo9cahvox/3z4mkd17.json', 'output', 'file=/tmp/tmpo9cahvox/prophet_model45e912u_/prophet_model-20250126071746.csv', 'method=optimize', 'algorithm=lbfgs', 'iter=10000']\n",
            "07:17:46 - cmdstanpy - INFO - Chain [1] start processing\n",
            "INFO:cmdstanpy:Chain [1] start processing\n",
            "07:17:50 - cmdstanpy - INFO - Chain [1] done processing\n",
            "INFO:cmdstanpy:Chain [1] done processing\n",
            "INFO:prophet:Disabling daily seasonality. Run prophet with daily_seasonality=True to override this.\n",
            "DEBUG:cmdstanpy:input tempfile: /tmp/tmpo9cahvox/fytydsxq.json\n"
          ]
        },
        {
          "output_type": "stream",
          "name": "stdout",
          "text": [
            "MAE: 148.9914882041072\n",
            "Evaluating parameters: {'changepoint_prior_scale': 0.5, 'growth': 'logistic', 'seasonality_mode': 'multiplicative', 'seasonality_prior_scale': 5.0}\n"
          ]
        },
        {
          "output_type": "stream",
          "name": "stderr",
          "text": [
            "DEBUG:cmdstanpy:input tempfile: /tmp/tmpo9cahvox/w6nusgoa.json\n",
            "DEBUG:cmdstanpy:idx 0\n",
            "DEBUG:cmdstanpy:running CmdStan, num_threads: None\n",
            "DEBUG:cmdstanpy:CmdStan args: ['/usr/local/lib/python3.11/dist-packages/prophet/stan_model/prophet_model.bin', 'random', 'seed=48078', 'data', 'file=/tmp/tmpo9cahvox/fytydsxq.json', 'init=/tmp/tmpo9cahvox/w6nusgoa.json', 'output', 'file=/tmp/tmpo9cahvox/prophet_modelvcsrzl5m/prophet_model-20250126071803.csv', 'method=optimize', 'algorithm=lbfgs', 'iter=10000']\n",
            "07:18:03 - cmdstanpy - INFO - Chain [1] start processing\n",
            "INFO:cmdstanpy:Chain [1] start processing\n",
            "07:18:06 - cmdstanpy - INFO - Chain [1] done processing\n",
            "INFO:cmdstanpy:Chain [1] done processing\n",
            "INFO:prophet:Disabling daily seasonality. Run prophet with daily_seasonality=True to override this.\n",
            "DEBUG:cmdstanpy:input tempfile: /tmp/tmpo9cahvox/_x96h1tv.json\n"
          ]
        },
        {
          "output_type": "stream",
          "name": "stdout",
          "text": [
            "MAE: 316.59087530174514\n",
            "Evaluating parameters: {'changepoint_prior_scale': 0.5, 'growth': 'logistic', 'seasonality_mode': 'multiplicative', 'seasonality_prior_scale': 10.0}\n"
          ]
        },
        {
          "output_type": "stream",
          "name": "stderr",
          "text": [
            "DEBUG:cmdstanpy:input tempfile: /tmp/tmpo9cahvox/1sm6wwj7.json\n",
            "DEBUG:cmdstanpy:idx 0\n",
            "DEBUG:cmdstanpy:running CmdStan, num_threads: None\n",
            "DEBUG:cmdstanpy:CmdStan args: ['/usr/local/lib/python3.11/dist-packages/prophet/stan_model/prophet_model.bin', 'random', 'seed=7641', 'data', 'file=/tmp/tmpo9cahvox/_x96h1tv.json', 'init=/tmp/tmpo9cahvox/1sm6wwj7.json', 'output', 'file=/tmp/tmpo9cahvox/prophet_modelau8atz5v/prophet_model-20250126071819.csv', 'method=optimize', 'algorithm=lbfgs', 'iter=10000']\n",
            "07:18:19 - cmdstanpy - INFO - Chain [1] start processing\n",
            "INFO:cmdstanpy:Chain [1] start processing\n",
            "07:18:21 - cmdstanpy - INFO - Chain [1] done processing\n",
            "INFO:cmdstanpy:Chain [1] done processing\n",
            "INFO:prophet:Disabling daily seasonality. Run prophet with daily_seasonality=True to override this.\n",
            "DEBUG:cmdstanpy:input tempfile: /tmp/tmpo9cahvox/qu7i4b4v.json\n"
          ]
        },
        {
          "output_type": "stream",
          "name": "stdout",
          "text": [
            "MAE: 316.50882769417075\n",
            "Evaluating parameters: {'changepoint_prior_scale': 0.5, 'growth': 'logistic', 'seasonality_mode': 'multiplicative', 'seasonality_prior_scale': 20.0}\n"
          ]
        },
        {
          "output_type": "stream",
          "name": "stderr",
          "text": [
            "DEBUG:cmdstanpy:input tempfile: /tmp/tmpo9cahvox/r5m3v5j4.json\n",
            "DEBUG:cmdstanpy:idx 0\n",
            "DEBUG:cmdstanpy:running CmdStan, num_threads: None\n",
            "DEBUG:cmdstanpy:CmdStan args: ['/usr/local/lib/python3.11/dist-packages/prophet/stan_model/prophet_model.bin', 'random', 'seed=4224', 'data', 'file=/tmp/tmpo9cahvox/qu7i4b4v.json', 'init=/tmp/tmpo9cahvox/r5m3v5j4.json', 'output', 'file=/tmp/tmpo9cahvox/prophet_modeliu7j30h1/prophet_model-20250126071834.csv', 'method=optimize', 'algorithm=lbfgs', 'iter=10000']\n",
            "07:18:34 - cmdstanpy - INFO - Chain [1] start processing\n",
            "INFO:cmdstanpy:Chain [1] start processing\n",
            "07:18:35 - cmdstanpy - INFO - Chain [1] done processing\n",
            "INFO:cmdstanpy:Chain [1] done processing\n"
          ]
        },
        {
          "output_type": "stream",
          "name": "stdout",
          "text": [
            "MAE: 316.5157460816192\n"
          ]
        }
      ]
    },
    {
      "cell_type": "code",
      "source": [
        "# Display best parameters and score\n",
        "print(\"\\nBest Parameters:\")\n",
        "print(best_params)\n",
        "print(f\"Best MAE: {best_score}\")"
      ],
      "metadata": {
        "colab": {
          "base_uri": "https://localhost:8080/"
        },
        "id": "iP6h7tY9YAF_",
        "outputId": "0bfe30f2-9164-4df1-b655-81f43474d345"
      },
      "execution_count": null,
      "outputs": [
        {
          "output_type": "stream",
          "name": "stdout",
          "text": [
            "\n",
            "Best Parameters:\n",
            "{'changepoint_prior_scale': 0.01, 'growth': 'logistic', 'seasonality_mode': 'additive', 'seasonality_prior_scale': 20.0}\n",
            "Best MAE: 49.74957180049943\n"
          ]
        }
      ]
    },
    {
      "cell_type": "code",
      "source": [
        "import pickle\n",
        "\n",
        "# Melatih kembali model dengan parameter terbaik\n",
        "best_model = Prophet(\n",
        "    growth=best_params['growth'],\n",
        "    changepoint_prior_scale=best_params['changepoint_prior_scale'],\n",
        "    seasonality_mode=best_params['seasonality_mode'],\n",
        "    seasonality_prior_scale=best_params['seasonality_prior_scale']\n",
        ")"
      ],
      "metadata": {
        "id": "YJElzkV1bCCs"
      },
      "execution_count": null,
      "outputs": []
    },
    {
      "cell_type": "code",
      "source": [
        "# Logistic growth memerlukan 'cap' jika diterapkan\n",
        "if best_params['growth'] == 'logistic':\n",
        "    train_data['cap'] = train_data['y'].max() * 1.2\n",
        "\n",
        "# Melatih model terbaik\n",
        "best_model.fit(train_data)"
      ],
      "metadata": {
        "colab": {
          "base_uri": "https://localhost:8080/"
        },
        "id": "u7ijE3LfbEXG",
        "outputId": "0d863ee4-ae12-468a-efed-5f2f578085b6"
      },
      "execution_count": null,
      "outputs": [
        {
          "output_type": "stream",
          "name": "stderr",
          "text": [
            "<ipython-input-14-0abd1bac77ca>:3: SettingWithCopyWarning: \n",
            "A value is trying to be set on a copy of a slice from a DataFrame.\n",
            "Try using .loc[row_indexer,col_indexer] = value instead\n",
            "\n",
            "See the caveats in the documentation: https://pandas.pydata.org/pandas-docs/stable/user_guide/indexing.html#returning-a-view-versus-a-copy\n",
            "  train_data['cap'] = train_data['y'].max() * 1.2\n",
            "INFO:prophet:Disabling daily seasonality. Run prophet with daily_seasonality=True to override this.\n",
            "DEBUG:cmdstanpy:input tempfile: /tmp/tmpo9cahvox/6xp_19jk.json\n",
            "DEBUG:cmdstanpy:input tempfile: /tmp/tmpo9cahvox/lvbmwog5.json\n",
            "DEBUG:cmdstanpy:idx 0\n",
            "DEBUG:cmdstanpy:running CmdStan, num_threads: None\n",
            "DEBUG:cmdstanpy:CmdStan args: ['/usr/local/lib/python3.11/dist-packages/prophet/stan_model/prophet_model.bin', 'random', 'seed=49647', 'data', 'file=/tmp/tmpo9cahvox/6xp_19jk.json', 'init=/tmp/tmpo9cahvox/lvbmwog5.json', 'output', 'file=/tmp/tmpo9cahvox/prophet_model4j0hh13w/prophet_model-20250126071944.csv', 'method=optimize', 'algorithm=lbfgs', 'iter=10000']\n",
            "07:19:44 - cmdstanpy - INFO - Chain [1] start processing\n",
            "INFO:cmdstanpy:Chain [1] start processing\n",
            "07:19:44 - cmdstanpy - INFO - Chain [1] done processing\n",
            "INFO:cmdstanpy:Chain [1] done processing\n"
          ]
        },
        {
          "output_type": "execute_result",
          "data": {
            "text/plain": [
              "<prophet.forecaster.Prophet at 0x7d0fed246810>"
            ]
          },
          "metadata": {},
          "execution_count": 14
        }
      ]
    },
    {
      "cell_type": "code",
      "source": [
        "# Menyimpan model terbaik ke dalam file pickle\n",
        "model_filename = \"best_prophet_model.pkl\"\n",
        "with open(model_filename, 'wb') as model_file:\n",
        "    pickle.dump(best_model, model_file)\n",
        "\n",
        "print(f\"Model terbaik disimpan sebagai {model_filename}.\")"
      ],
      "metadata": {
        "colab": {
          "base_uri": "https://localhost:8080/"
        },
        "id": "FBd1K3DCbHEt",
        "outputId": "02caf8d4-d30d-42a4-b405-32051bc2caf5"
      },
      "execution_count": null,
      "outputs": [
        {
          "output_type": "stream",
          "name": "stdout",
          "text": [
            "Model terbaik disimpan sebagai best_prophet_model.pkl.\n"
          ]
        }
      ]
    },
    {
      "cell_type": "code",
      "source": [
        "# Path ke model yang telah disimpan\n",
        "model_path = \"/content/best_prophet_model.pkl\"\n",
        "\n",
        "# Memuat model Prophet yang telah disimpan\n",
        "with open(model_path, 'rb') as model_file:\n",
        "    loaded_model = pickle.load(model_file)\n",
        "\n",
        "# Menampilkan pesan bahwa model berhasil dimuat\n",
        "print(\"Model Prophet berhasil dimuat.\")"
      ],
      "metadata": {
        "colab": {
          "base_uri": "https://localhost:8080/"
        },
        "id": "6Lguhs9ebimH",
        "outputId": "a573776c-e4de-4263-c8a5-55b5a8a62204"
      },
      "execution_count": null,
      "outputs": [
        {
          "output_type": "stream",
          "name": "stdout",
          "text": [
            "Model Prophet berhasil dimuat.\n"
          ]
        }
      ]
    },
    {
      "cell_type": "code",
      "source": [
        "# Membuat data untuk prediksi (jumlah hari ke depan yang ingin diprediksi)\n",
        "prediction_days = 365  # Anda bisa mengganti jumlah hari sesuai kebutuhan\n",
        "future = loaded_model.make_future_dataframe(periods=prediction_days)\n",
        "\n",
        "# Jika model menggunakan pertumbuhan logistic, tambahkan kolom 'cap'\n",
        "if loaded_model.growth == 'logistic':\n",
        "    cap_value = train_data['y'].max() * 1.2  # Sesuaikan dengan data historis\n",
        "    future['cap'] = cap_value\n",
        "\n",
        "# Melakukan prediksi\n",
        "forecast = loaded_model.predict(future)"
      ],
      "metadata": {
        "id": "KAKS6trLbl8i"
      },
      "execution_count": null,
      "outputs": []
    },
    {
      "cell_type": "code",
      "source": [
        "# Menampilkan hasil prediksi\n",
        "print(forecast[['ds', 'yhat', 'yhat_lower', 'yhat_upper']].tail(prediction_days))"
      ],
      "metadata": {
        "colab": {
          "base_uri": "https://localhost:8080/"
        },
        "id": "uRtIYR7TboKd",
        "outputId": "e606562a-4596-4a06-f564-16286a305e92"
      },
      "execution_count": null,
      "outputs": [
        {
          "output_type": "stream",
          "name": "stdout",
          "text": [
            "             ds        yhat  yhat_lower  yhat_upper\n",
            "3607 2024-10-26  369.224825  302.134712  438.382544\n",
            "3608 2024-10-27  369.729995  300.970600  437.843353\n",
            "3609 2024-10-28  291.155104  220.414260  361.902672\n",
            "3610 2024-10-29  291.575716  225.296764  357.512005\n",
            "3611 2024-10-30  292.298510  224.281647  359.705707\n",
            "...         ...         ...         ...         ...\n",
            "3967 2025-10-21  323.839660  253.936390  386.287405\n",
            "3968 2025-10-22  324.614678  259.681188  388.881264\n",
            "3969 2025-10-23  324.523747  256.110156  391.758008\n",
            "3970 2025-10-24  324.328166  258.999645  392.455871\n",
            "3971 2025-10-25  404.961276  336.564601  471.165358\n",
            "\n",
            "[365 rows x 4 columns]\n"
          ]
        }
      ]
    },
    {
      "cell_type": "code",
      "source": [
        "# Visualisasi hasil prediksi\n",
        "import matplotlib.pyplot as plt\n",
        "\n",
        "plt.figure(figsize=(10, 6))\n",
        "# Plot utama Prophet\n",
        "fig = loaded_model.plot(forecast, xlabel=\"Tanggal\", ylabel=\"Harga Saham\", figsize=(10, 6))\n",
        "\n",
        "# Menambahkan legenda\n",
        "plt.legend(\n",
        "    [\"Data Historis\", \"Prediksi\", \"Batas Atas (yhat_upper)\", \"Batas Bawah (yhat_lower)\"],\n",
        "    loc=\"lower right\",\n",
        "    fontsize=10\n",
        ")\n",
        "# Menambahkan judul\n",
        "plt.title(\"Prediksi Harga Saham Tesla Menggunakan Prophet\", fontsize=14)\n",
        "# Menampilkan grafik\n",
        "plt.show()"
      ],
      "metadata": {
        "colab": {
          "base_uri": "https://localhost:8080/",
          "height": 647
        },
        "id": "uRyyRviubp_D",
        "outputId": "3a7a692a-985c-4ee5-f530-23168f7dc283"
      },
      "execution_count": null,
      "outputs": [
        {
          "output_type": "display_data",
          "data": {
            "text/plain": [
              "<Figure size 1000x600 with 0 Axes>"
            ]
          },
          "metadata": {}
        },
        {
          "output_type": "display_data",
          "data": {
            "text/plain": [
              "<Figure size 1000x600 with 1 Axes>"
            ],
            "image/png": "[encoded data removed]"
          },
          "metadata": {}
        }
      ]
    }
  ]
}